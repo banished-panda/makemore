{
  "nbformat": 4,
  "nbformat_minor": 0,
  "metadata": {
    "colab": {
      "provenance": [],
      "gpuType": "T4",
      "authorship_tag": "ABX9TyO/mky63/18OK/ilddLhgxz",
      "include_colab_link": true
    },
    "kernelspec": {
      "name": "python3",
      "display_name": "Python 3"
    },
    "language_info": {
      "name": "python"
    },
    "accelerator": "GPU"
  },
  "cells": [
    {
      "cell_type": "markdown",
      "metadata": {
        "id": "view-in-github",
        "colab_type": "text"
      },
      "source": [
        "<a href=\"https://colab.research.google.com/github/banished-panda/makemore/blob/main/Makemore(C).ipynb\" target=\"_parent\"><img src=\"https://colab.research.google.com/assets/colab-badge.svg\" alt=\"Open In Colab\"/></a>"
      ]
    },
    {
      "cell_type": "code",
      "source": [
        "import tensorflow as tf\n",
        "import matplotlib.pyplot as plt"
      ],
      "metadata": {
        "id": "gI0yD2sB2nFC"
      },
      "execution_count": 1,
      "outputs": []
    },
    {
      "cell_type": "code",
      "execution_count": 2,
      "metadata": {
        "colab": {
          "base_uri": "https://localhost:8080/"
        },
        "id": "nDCDhVZkbRPd",
        "outputId": "9e08fc13-e53c-42db-a890-d817be6253ec"
      },
      "outputs": [
        {
          "output_type": "stream",
          "name": "stdout",
          "text": [
            "--2023-07-08 14:51:01--  https://raw.githubusercontent.com/karpathy/makemore/master/names.txt\n",
            "Resolving raw.githubusercontent.com (raw.githubusercontent.com)... 185.199.108.133, 185.199.109.133, 185.199.110.133, ...\n",
            "Connecting to raw.githubusercontent.com (raw.githubusercontent.com)|185.199.108.133|:443... connected.\n",
            "HTTP request sent, awaiting response... 200 OK\n",
            "Length: 228145 (223K) [text/plain]\n",
            "Saving to: ‘names.txt’\n",
            "\n",
            "\rnames.txt             0%[                    ]       0  --.-KB/s               \rnames.txt           100%[===================>] 222.80K  --.-KB/s    in 0.009s  \n",
            "\n",
            "2023-07-08 14:51:01 (23.5 MB/s) - ‘names.txt’ saved [228145/228145]\n",
            "\n"
          ]
        }
      ],
      "source": [
        "!wget https://raw.githubusercontent.com/karpathy/makemore/master/names.txt"
      ]
    },
    {
      "cell_type": "code",
      "source": [
        "words = open('names.txt').read().splitlines()\n",
        "print(words[:5])\n",
        "print('total words:', len(words))\n",
        "vocab = sorted(list(set('.' + ''.join(words))))\n",
        "print('vocab size:', len(vocab))\n",
        "stoi = {s:i for i,s in enumerate(vocab)}\n",
        "itos = {i:s for i,s in enumerate(vocab)}"
      ],
      "metadata": {
        "id": "GtNMSeh7bt8W",
        "colab": {
          "base_uri": "https://localhost:8080/"
        },
        "outputId": "93bbe19a-80c8-43a1-d596-1c1abe8c51e0"
      },
      "execution_count": 3,
      "outputs": [
        {
          "output_type": "stream",
          "name": "stdout",
          "text": [
            "['emma', 'olivia', 'ava', 'isabella', 'sophia']\n",
            "total words: 32033\n",
            "vocab size: 27\n"
          ]
        }
      ]
    },
    {
      "cell_type": "code",
      "source": [
        "# split the dataset\n",
        "train, dev, test = 0.8, 0.1, 0.1\n",
        "assert train+dev+test == 1.0\n",
        "\n",
        "ix_train = int(train * len(words))\n",
        "ix_dev = int((train+dev) * len(words))\n",
        "\n",
        "words_trn = words[:ix_train]\n",
        "words_dev = words[ix_train:ix_dev]\n",
        "words_tst = words[ix_dev:]\n",
        "\n",
        "print(len(words_trn), len(words_dev), len(words_tst))"
      ],
      "metadata": {
        "colab": {
          "base_uri": "https://localhost:8080/"
        },
        "id": "HJBRNdHEdT5U",
        "outputId": "0c142953-94d8-4149-9e06-e3862b72e9f3"
      },
      "execution_count": 4,
      "outputs": [
        {
          "output_type": "stream",
          "name": "stdout",
          "text": [
            "25626 3203 3204\n"
          ]
        }
      ]
    },
    {
      "cell_type": "code",
      "source": [
        "def get_features_and_target(dataset, context_length=3):\n",
        "  X, Y = [], []\n",
        "  for word in dataset:\n",
        "    context = [0] * context_length\n",
        "    for ch in word+'.':\n",
        "      ix = stoi[ch]\n",
        "      X.append(context)\n",
        "      Y.append(ix)\n",
        "      context = context[1:] + [ix]\n",
        "  X = tf.constant(X)\n",
        "  Y = tf.constant(Y)\n",
        "  return X, Y"
      ],
      "metadata": {
        "id": "ctkcaUXJe9ey"
      },
      "execution_count": 5,
      "outputs": []
    },
    {
      "cell_type": "code",
      "source": [
        "context_length = 4\n",
        "X_tr, Y_tr = get_features_and_target(words_trn, context_length)"
      ],
      "metadata": {
        "id": "KPP4nuJIg_Ya"
      },
      "execution_count": 30,
      "outputs": []
    },
    {
      "cell_type": "code",
      "source": [
        "X_tr.shape"
      ],
      "metadata": {
        "colab": {
          "base_uri": "https://localhost:8080/"
        },
        "id": "VjoMBq9WDkRD",
        "outputId": "db9fbfd5-d7b9-43d1-8086-fc71ac54c4d1"
      },
      "execution_count": 31,
      "outputs": [
        {
          "output_type": "execute_result",
          "data": {
            "text/plain": [
              "TensorShape([182778, 4])"
            ]
          },
          "metadata": {},
          "execution_count": 31
        }
      ]
    },
    {
      "cell_type": "code",
      "source": [
        "X_tr[:5], Y_tr[:5]"
      ],
      "metadata": {
        "colab": {
          "base_uri": "https://localhost:8080/"
        },
        "id": "kQlDfjxVhTxa",
        "outputId": "560d0549-b8c5-4a2d-b5ca-6678aed5707f"
      },
      "execution_count": 32,
      "outputs": [
        {
          "output_type": "execute_result",
          "data": {
            "text/plain": [
              "(<tf.Tensor: shape=(5, 4), dtype=int32, numpy=\n",
              " array([[ 0,  0,  0,  0],\n",
              "        [ 0,  0,  0,  5],\n",
              "        [ 0,  0,  5, 13],\n",
              "        [ 0,  5, 13, 13],\n",
              "        [ 5, 13, 13,  1]], dtype=int32)>,\n",
              " <tf.Tensor: shape=(5,), dtype=int32, numpy=array([ 5, 13, 13,  1,  0], dtype=int32)>)"
            ]
          },
          "metadata": {},
          "execution_count": 32
        }
      ]
    },
    {
      "cell_type": "code",
      "source": [
        "# ------------- MODEL -----------------\n",
        "\n",
        "# - hyperparams -\n",
        "embed_size = 10\n",
        "random_seed = 2147483647\n",
        "n_hidden = 300                        # No. of neuraons in hidden layer\n",
        "\n",
        "# - model params -\n",
        "g = tf.random.Generator.from_seed(random_seed)\n",
        "\n",
        "# Embeding layer\n",
        "C = tf.Variable(g.normal((27, embed_size)))\n",
        "\n",
        "# Dense 1\n",
        "W1 = tf.Variable(g.normal((embed_size*context_length, n_hidden)))\n",
        "b1 = tf.Variable(tf.zeros((1, n_hidden)))\n",
        "\n",
        "# Dense 2\n",
        "W2 = tf.Variable(g.normal((n_hidden,len(vocab))))\n",
        "b2 = tf.Variable(tf.zeros((1, len(vocab))))\n",
        "\n",
        "# trainable parameters\n",
        "parameters = [C, W1, b1, W2, b2]\n",
        "\n",
        "print('No. of params:', sum(tf.size(param).numpy() for param in parameters))"
      ],
      "metadata": {
        "colab": {
          "base_uri": "https://localhost:8080/"
        },
        "id": "hUN7uEsjh3DW",
        "outputId": "f67e8565-0649-4c06-992e-c0499ed2000e"
      },
      "execution_count": 52,
      "outputs": [
        {
          "output_type": "stream",
          "name": "stdout",
          "text": [
            "No. of params: 20697\n"
          ]
        }
      ]
    },
    {
      "cell_type": "code",
      "source": [
        "# - optimiztaion -\n",
        "\n",
        "epochs = 1\n",
        "learning_rate = 1e-1\n",
        "batch_size = 128\n",
        "\n",
        "scce = tf.keras.losses.SparseCategoricalCrossentropy(from_logits=True)\n",
        "tf.random.set_seed(random_seed)\n",
        "losses = []\n",
        "learning_rate = tf.constant(learning_rate, dtype=tf.float32)\n",
        "\n",
        "for epoch in range(epochs):\n",
        "\n",
        "  ixs = tf.random.shuffle(tf.range(X_tr.shape[0]))\n",
        "  iters = int(X_tr.shape[0] / batch_size)\n",
        "  average_loss = 0  # over one epoch\n",
        "  prv_progress = 0\n",
        "  print('Epoch:', epoch+1, 'learning_rate:', learning_rate.numpy())\n",
        "\n",
        "  for i in range(iters):\n",
        "\n",
        "    # optimize in mini-batches\n",
        "\n",
        "    Xs = tf.gather(X_tr, ixs[ i*batch_size : (i+1)*batch_size])\n",
        "    Ys = tf.gather(Y_tr, ixs[ i*batch_size : (i+1)*batch_size])\n",
        "\n",
        "    # - forward pass -\n",
        "    with tf.GradientTape() as tape:\n",
        "      emb = tf.gather(C, Xs)\n",
        "      h_pre_act = tf.reshape(emb, (batch_size, -1)) @ W1 + b1\n",
        "      h = tf.math.tanh(h_pre_act)\n",
        "      logits = h @ W2 + b2\n",
        "      # loss\n",
        "      loss = scce(Ys, logits)\n",
        "    average_loss += loss.numpy()\n",
        "    losses.append(loss.numpy())\n",
        "\n",
        "    # - backward pass -\n",
        "    gradients = tape.gradient(loss, parameters)\n",
        "\n",
        "    # - update -\n",
        "    for param, grad in zip(parameters, gradients):\n",
        "      if type(grad) == tf.IndexedSlices:\n",
        "        delta = tf.IndexedSlices(\n",
        "            values = learning_rate * grad.values,\n",
        "            indices = grad.indices,\n",
        "            dense_shape = grad.dense_shape\n",
        "        )\n",
        "        param.assign_sub(delta)\n",
        "      else:\n",
        "        param.assign_sub(learning_rate * grad)\n",
        "\n",
        "    # - display progress -\n",
        "    progress = ((i+1) * 50) // iters\n",
        "    if progress > prv_progress:\n",
        "      print('\\r',f'{i+1}/{iters} :\\t','[', '='*(progress-1), '>', '-'*(50-progress),']\\t','loss=',average_loss/(i+1), sep='', end='')\n",
        "    prv_progress = progress\n",
        "    break\n",
        "\n",
        "  average_loss /= iters\n",
        "  print()\n",
        "  learning_rate = learning_rate * 0.1 if (epoch+1)%3 == 0 else learning_rate"
      ],
      "metadata": {
        "colab": {
          "base_uri": "https://localhost:8080/"
        },
        "id": "latyQy0dnyNg",
        "outputId": "d97dc60c-d172-416d-a108-4500cffd12b0"
      },
      "execution_count": 53,
      "outputs": [
        {
          "output_type": "stream",
          "name": "stdout",
          "text": [
            "Epoch: 1 learning_rate: 0.1\n",
            "\n"
          ]
        }
      ]
    },
    {
      "cell_type": "code",
      "source": [
        "lossA = losses.copy()"
      ],
      "metadata": {
        "id": "WPlNTp-ARdZ5"
      },
      "execution_count": 11,
      "outputs": []
    },
    {
      "cell_type": "code",
      "source": [
        "plt.plot(losses)"
      ],
      "metadata": {
        "colab": {
          "base_uri": "https://localhost:8080/",
          "height": 452
        },
        "id": "tT1fHZRTALr4",
        "outputId": "3e3f59fc-3614-48b9-c9f0-29685b1ced60"
      },
      "execution_count": 12,
      "outputs": [
        {
          "output_type": "execute_result",
          "data": {
            "text/plain": [
              "[<matplotlib.lines.Line2D at 0x7f05967ff400>]"
            ]
          },
          "metadata": {},
          "execution_count": 12
        },
        {
          "output_type": "display_data",
          "data": {
            "text/plain": [
              "<Figure size 640x480 with 1 Axes>"
            ],
            "image/png": "[encoded data removed]"
          },
          "metadata": {}
        }
      ]
    },
    {
      "cell_type": "code",
      "source": [
        "# evaluate on a dataset\n",
        "def evaluate(dataset):\n",
        "  X_eval, Y_eval = get_features_and_target(dataset, context_length)\n",
        "  emb = tf.gather(C, X_eval)\n",
        "  h_pre_act = tf.reshape(emb, (X_eval.shape[0], -1)) @ W1 + b1\n",
        "  h = tf.math.tanh(h_pre_act)\n",
        "  logits = h @ W2 + b2\n",
        "  scce = tf.keras.losses.SparseCategoricalCrossentropy(from_logits=True)\n",
        "  loss = scce(Y_eval, logits)\n",
        "  return loss.numpy()"
      ],
      "metadata": {
        "id": "Fota-3wWAqga"
      },
      "execution_count": 13,
      "outputs": []
    },
    {
      "cell_type": "code",
      "source": [
        "evaluate(words_trn), evaluate(words_dev)"
      ],
      "metadata": {
        "colab": {
          "base_uri": "https://localhost:8080/"
        },
        "id": "PcZaFsIlDPAw",
        "outputId": "afe9f0a6-bcc4-4dfb-ae7f-d32825459869"
      },
      "execution_count": 50,
      "outputs": [
        {
          "output_type": "execute_result",
          "data": {
            "text/plain": [
              "(4.1925244, 4.1881747)"
            ]
          },
          "metadata": {},
          "execution_count": 50
        }
      ]
    },
    {
      "cell_type": "code",
      "source": [
        "# sampling\n",
        "tf.random.set_seed(random_seed)\n",
        "for _ in range(20):\n",
        "  context = [0] * context_length\n",
        "  out = []\n",
        "  while True:\n",
        "    _X = tf.constant([context])\n",
        "    emb = tf.gather(C, _X)\n",
        "    _h = tf.math.tanh( tf.reshape(emb,(_X.shape[0], -1)) @ W1 + b1)\n",
        "    logits = _h @ W2 + b2\n",
        "    ix = tf.random.categorical(logits, 1)[0][0].numpy()\n",
        "    if ix == 0:\n",
        "      break\n",
        "    context = context[1:] + [ix]\n",
        "    out.append(itos[ix])\n",
        "  print(''.join(out))"
      ],
      "metadata": {
        "colab": {
          "base_uri": "https://localhost:8080/"
        },
        "id": "6KzuaxWjOiry",
        "outputId": "f8149204-2243-40be-fc43-e240388480da"
      },
      "execution_count": 17,
      "outputs": [
        {
          "output_type": "stream",
          "name": "stdout",
          "text": [
            "xxtziangagaamkbmnscdzyuprvhwfauzfcmdz\n",
            "uumrjimtjzjqjorwhcfaudfsjmyycrotmajmqkyeohmyz\n",
            "xxtziangagavftlaigwvtztvttaawkidxvfwthwaorvycf\n",
            "xxtziwk\n",
            "xxtziangagavtzyamtvycm\n",
            "xxtziangagavtzyamtlzckafuzdwgtgtgzaomrktdaeozkommycnbmwzpcangtdzoawxzrvttaawklkaomzkiacrzlwaowcpumnenalwzrztjojpdzyupxnamgzyqwotmoczyz\n",
            "xxwtzylatjietdzbawtlaooclalgldiylzaqmteyemygfrnlceoemycfrvtyaforlzcaatfrmdziatjrjij\n",
            "xxwjommycmrbtcalavklaarzsqaokrktdaeozmoztycfumdyurnscfumdzycptlabewlzcxlavylaogwktzaqwtlaaejzmoycdjbfwjoyxpfpjoyprnudfoewytfcbhfrjpfuddykrvtwaamtlzckafu\n",
            "xxtzivttaawkidxvfwthfamwzlztjojpdzyuprvhwfauzfcmdz\n",
            "xxtziangagaqfpldzyaoorkhdaofcdzyupxnamgzyhpxprvtwaamtlzckafu\n",
            "xxtziangagaqfpldzyaoorjrjij\n",
            "xxtziangagaqfprdzbawtlaooclalgldiylzaqmteyemygfrnlceoywfzbomtfzyjjo\n",
            "xwtzylatjietek\n",
            "xxtziangagaqfpldzyamtlzckafu\n",
            "xxtjoyxpglavylaogwktzaqwtlaaewlzcxlatglanczpz\n",
            "xxtziangagavtzyamtlzckafu\n",
            "xwttaaamlkmdwkivtlaaezymmtayczlwthglavylaogwktzaqgtaomrktdaeozkommycnbmwzpqaorvycf\n",
            "uu\n",
            "xwttaawklk\n",
            "xxtziangagaqfpldzyamrvycf\n"
          ]
        }
      ]
    },
    {
      "cell_type": "code",
      "source": [
        "import numpy as np\n",
        "plt.plot( np.histogram(h_pre_act.numpy().reshape(-1), bins=50)[1][1:],np.histogram(h_pre_act.numpy().reshape(-1), bins=50)[0])"
      ],
      "metadata": {
        "colab": {
          "base_uri": "https://localhost:8080/",
          "height": 447
        },
        "id": "W118lxtQFpRs",
        "outputId": "3d6b4ab9-9a82-48f5-bf29-0fc47351f66e"
      },
      "execution_count": 77,
      "outputs": [
        {
          "output_type": "execute_result",
          "data": {
            "text/plain": [
              "[<matplotlib.lines.Line2D at 0x7f048589b970>]"
            ]
          },
          "metadata": {},
          "execution_count": 77
        },
        {
          "output_type": "display_data",
          "data": {
            "text/plain": [
              "<Figure size 640x480 with 1 Axes>"
            ],
            "image/png": "[encoded data removed]"
          },
          "metadata": {}
        }
      ]
    },
    {
      "cell_type": "code",
      "source": [
        "plt.hist(h_pre_act.numpy().reshape(-1), bins=50, histtype='step');\n",
        "plt.hist(h.numpy().reshape(-1), bins=50, histtype='step');\n",
        "plt.hist(logits.numpy().reshape(-1), bins=50, histtype='step');"
      ],
      "metadata": {
        "colab": {
          "base_uri": "https://localhost:8080/",
          "height": 430
        },
        "id": "wCR39_y4_te-",
        "outputId": "e659c5d5-1316-40f9-9612-592413d6e94a"
      },
      "execution_count": 69,
      "outputs": [
        {
          "output_type": "display_data",
          "data": {
            "text/plain": [
              "<Figure size 640x480 with 1 Axes>"
            ],
            "image/png": "[encoded data removed]"
          },
          "metadata": {}
        }
      ]
    },
    {
      "cell_type": "code",
      "source": [
        "plt.hist(h.numpy().reshape(-1), bins=50);"
      ],
      "metadata": {
        "colab": {
          "base_uri": "https://localhost:8080/",
          "height": 430
        },
        "id": "Lzaj2xCiBnTF",
        "outputId": "81e9b10e-bdcb-4487-f797-2cc1719861bd"
      },
      "execution_count": 46,
      "outputs": [
        {
          "output_type": "display_data",
          "data": {
            "text/plain": [
              "<Figure size 640x480 with 1 Axes>"
            ],
            "image/png": "[encoded data removed]"
          },
          "metadata": {}
        }
      ]
    },
    {
      "cell_type": "code",
      "source": [
        "plt.hist(logits.numpy().reshape(-1), bins=50);"
      ],
      "metadata": {
        "colab": {
          "base_uri": "https://localhost:8080/",
          "height": 430
        },
        "id": "GwPvKPjaByhu",
        "outputId": "7fce7568-b7a0-4a72-f90f-ebbd649fa4eb"
      },
      "execution_count": 54,
      "outputs": [
        {
          "output_type": "display_data",
          "data": {
            "text/plain": [
              "<Figure size 640x480 with 1 Axes>"
            ],
            "image/png": "[encoded data removed]"
          },
          "metadata": {}
        }
      ]
    },
    {
      "cell_type": "code",
      "source": [
        "grad = gradients[0]\n",
        "if type(grad) == tf.IndexedSlices:\n",
        "  plt.hist(grad.values.numpy().reshape(-1), bins=50);\n",
        "else:\n",
        "  plt.hist(grad.numpy().reshape(-1), bins=50);"
      ],
      "metadata": {
        "colab": {
          "base_uri": "https://localhost:8080/",
          "height": 430
        },
        "id": "yd5N_A8DCqur",
        "outputId": "967ca374-25fd-4160-f1d4-6ff1fbb195be"
      },
      "execution_count": 61,
      "outputs": [
        {
          "output_type": "display_data",
          "data": {
            "text/plain": [
              "<Figure size 640x480 with 1 Axes>"
            ],
            "image/png": "[encoded data removed]"
          },
          "metadata": {}
        }
      ]
    }
  ]
}