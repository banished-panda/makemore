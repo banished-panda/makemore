{
  "nbformat": 4,
  "nbformat_minor": 0,
  "metadata": {
    "colab": {
      "provenance": [],
      "gpuType": "T4",
      "authorship_tag": "ABX9TyPvnnLfpfdE4v1NGVL/LOgY"
    },
    "kernelspec": {
      "name": "python3",
      "display_name": "Python 3"
    },
    "language_info": {
      "name": "python"
    },
    "accelerator": "GPU"
  },
  "cells": [
    {
      "cell_type": "code",
      "source": [
        "!wget https://raw.githubusercontent.com/karpathy/makemore/master/names.txt"
      ],
      "metadata": {
        "colab": {
          "base_uri": "https://localhost:8080/"
        },
        "id": "uAViN-9GMu_d",
        "outputId": "d44eaafd-03d2-440a-8dc0-7a73a13c8d36"
      },
      "execution_count": 3,
      "outputs": [
        {
          "output_type": "stream",
          "name": "stdout",
          "text": [
            "--2023-07-07 10:48:14--  https://raw.githubusercontent.com/karpathy/makemore/master/names.txt\n",
            "Resolving raw.githubusercontent.com (raw.githubusercontent.com)... 185.199.110.133, 185.199.108.133, 185.199.109.133, ...\n",
            "Connecting to raw.githubusercontent.com (raw.githubusercontent.com)|185.199.110.133|:443... connected.\n",
            "HTTP request sent, awaiting response... 200 OK\n",
            "Length: 228145 (223K) [text/plain]\n",
            "Saving to: ‘names.txt.1’\n",
            "\n",
            "\rnames.txt.1           0%[                    ]       0  --.-KB/s               \rnames.txt.1         100%[===================>] 222.80K  --.-KB/s    in 0.01s   \n",
            "\n",
            "2023-07-07 10:48:14 (20.2 MB/s) - ‘names.txt.1’ saved [228145/228145]\n",
            "\n"
          ]
        }
      ]
    },
    {
      "cell_type": "code",
      "execution_count": 4,
      "metadata": {
        "id": "UXcSSAdTJ0gg"
      },
      "outputs": [],
      "source": [
        "import tensorflow as tf\n",
        "import matplotlib.pyplot as plt\n",
        "%matplotlib inline"
      ]
    },
    {
      "cell_type": "code",
      "source": [
        "words = open('names.txt').read().splitlines()\n",
        "print(len(words))\n",
        "words[:6]"
      ],
      "metadata": {
        "colab": {
          "base_uri": "https://localhost:8080/"
        },
        "id": "bNzYHgJVMr5u",
        "outputId": "63c962cd-230c-47e0-9ac0-55a17bff2832"
      },
      "execution_count": 5,
      "outputs": [
        {
          "output_type": "stream",
          "name": "stdout",
          "text": [
            "32033\n"
          ]
        },
        {
          "output_type": "execute_result",
          "data": {
            "text/plain": [
              "['emma', 'olivia', 'ava', 'isabella', 'sophia', 'charlotte']"
            ]
          },
          "metadata": {},
          "execution_count": 5
        }
      ]
    },
    {
      "cell_type": "code",
      "source": [
        "chars = sorted(list(set('.' + ''.join(words))))\n",
        "stoi = {s:i for i,s in enumerate(chars)}\n",
        "itos = {i:s for i,s in enumerate(chars)}\n",
        "print(itos)\n",
        "print(stoi)"
      ],
      "metadata": {
        "colab": {
          "base_uri": "https://localhost:8080/"
        },
        "id": "U9kwnhEgM_Fo",
        "outputId": "00864eeb-2b2f-4aba-eb29-4edf5b807534"
      },
      "execution_count": 6,
      "outputs": [
        {
          "output_type": "stream",
          "name": "stdout",
          "text": [
            "{0: '.', 1: 'a', 2: 'b', 3: 'c', 4: 'd', 5: 'e', 6: 'f', 7: 'g', 8: 'h', 9: 'i', 10: 'j', 11: 'k', 12: 'l', 13: 'm', 14: 'n', 15: 'o', 16: 'p', 17: 'q', 18: 'r', 19: 's', 20: 't', 21: 'u', 22: 'v', 23: 'w', 24: 'x', 25: 'y', 26: 'z'}\n",
            "{'.': 0, 'a': 1, 'b': 2, 'c': 3, 'd': 4, 'e': 5, 'f': 6, 'g': 7, 'h': 8, 'i': 9, 'j': 10, 'k': 11, 'l': 12, 'm': 13, 'n': 14, 'o': 15, 'p': 16, 'q': 17, 'r': 18, 's': 19, 't': 20, 'u': 21, 'v': 22, 'w': 23, 'x': 24, 'y': 25, 'z': 26}\n"
          ]
        }
      ]
    },
    {
      "cell_type": "code",
      "source": [
        "chars"
      ],
      "metadata": {
        "colab": {
          "base_uri": "https://localhost:8080/"
        },
        "id": "gmmvdCb4A1wX",
        "outputId": "502278ca-d15b-468c-a17e-5f825926f526"
      },
      "execution_count": 77,
      "outputs": [
        {
          "output_type": "execute_result",
          "data": {
            "text/plain": [
              "['.',\n",
              " 'a',\n",
              " 'b',\n",
              " 'c',\n",
              " 'd',\n",
              " 'e',\n",
              " 'f',\n",
              " 'g',\n",
              " 'h',\n",
              " 'i',\n",
              " 'j',\n",
              " 'k',\n",
              " 'l',\n",
              " 'm',\n",
              " 'n',\n",
              " 'o',\n",
              " 'p',\n",
              " 'q',\n",
              " 'r',\n",
              " 's',\n",
              " 't',\n",
              " 'u',\n",
              " 'v',\n",
              " 'w',\n",
              " 'x',\n",
              " 'y',\n",
              " 'z']"
            ]
          },
          "metadata": {},
          "execution_count": 77
        }
      ]
    },
    {
      "cell_type": "code",
      "source": [
        "# build the dataset\n",
        "\n",
        "block_size = 3\n",
        "X, Y = [], []\n",
        "\n",
        "for w in words[:5]:\n",
        "  print(w)\n",
        "  context = [0] * block_size\n",
        "  for ch in w + '.':\n",
        "    ix = stoi[ch]\n",
        "    X.append(context)\n",
        "    Y.append(ix)\n",
        "    print(''.join(itos[i] for i in context), '--->', ch)\n",
        "    context = context[1:] + [ix]\n",
        "\n",
        "X = tf.constant(X)\n",
        "Y = tf.constant(Y)"
      ],
      "metadata": {
        "colab": {
          "base_uri": "https://localhost:8080/"
        },
        "id": "kW7moj_DOPgB",
        "outputId": "d99190fd-fcc8-46a4-835f-3aa1b718eac8"
      },
      "execution_count": 7,
      "outputs": [
        {
          "output_type": "stream",
          "name": "stdout",
          "text": [
            "emma\n",
            "... ---> e\n",
            "..e ---> m\n",
            ".em ---> m\n",
            "emm ---> a\n",
            "mma ---> .\n",
            "olivia\n",
            "... ---> o\n",
            "..o ---> l\n",
            ".ol ---> i\n",
            "oli ---> v\n",
            "liv ---> i\n",
            "ivi ---> a\n",
            "via ---> .\n",
            "ava\n",
            "... ---> a\n",
            "..a ---> v\n",
            ".av ---> a\n",
            "ava ---> .\n",
            "isabella\n",
            "... ---> i\n",
            "..i ---> s\n",
            ".is ---> a\n",
            "isa ---> b\n",
            "sab ---> e\n",
            "abe ---> l\n",
            "bel ---> l\n",
            "ell ---> a\n",
            "lla ---> .\n",
            "sophia\n",
            "... ---> s\n",
            "..s ---> o\n",
            ".so ---> p\n",
            "sop ---> h\n",
            "oph ---> i\n",
            "phi ---> a\n",
            "hia ---> .\n"
          ]
        }
      ]
    },
    {
      "cell_type": "code",
      "source": [
        "X.shape, Y.shape, X.dtype, Y.dtype"
      ],
      "metadata": {
        "colab": {
          "base_uri": "https://localhost:8080/"
        },
        "id": "jkdDuAQJPtlJ",
        "outputId": "a9c1d54d-36cb-4981-afd7-d016e89457c0"
      },
      "execution_count": 8,
      "outputs": [
        {
          "output_type": "execute_result",
          "data": {
            "text/plain": [
              "(TensorShape([32, 3]), TensorShape([32]), tf.int32, tf.int32)"
            ]
          },
          "metadata": {},
          "execution_count": 8
        }
      ]
    },
    {
      "cell_type": "code",
      "source": [
        "embed_size = 2\n",
        "C = tf.Variable(tf.random.normal((27, embed_size)), name = 'embedings')"
      ],
      "metadata": {
        "id": "GuSPLKOFP9DY"
      },
      "execution_count": 9,
      "outputs": []
    },
    {
      "cell_type": "code",
      "source": [
        "C"
      ],
      "metadata": {
        "colab": {
          "base_uri": "https://localhost:8080/"
        },
        "id": "_TyjdPr-Qa5z",
        "outputId": "4cd0e44b-7a24-45f7-f445-29b4c58c1113"
      },
      "execution_count": 10,
      "outputs": [
        {
          "output_type": "execute_result",
          "data": {
            "text/plain": [
              "<tf.Variable 'embedings:0' shape=(27, 2) dtype=float32, numpy=\n",
              "array([[-0.9521539 , -0.67417485],\n",
              "       [ 2.0701635 , -0.7613406 ],\n",
              "       [ 1.9830511 ,  1.7383884 ],\n",
              "       [ 0.46034968,  0.39671266],\n",
              "       [ 0.09764323,  2.0108995 ],\n",
              "       [-1.0729713 , -0.34305072],\n",
              "       [-1.3854414 , -1.2964383 ],\n",
              "       [-0.31035566, -1.9458215 ],\n",
              "       [-0.18729673,  1.6958696 ],\n",
              "       [ 0.2030841 ,  1.7798976 ],\n",
              "       [-0.6404352 , -0.725254  ],\n",
              "       [ 1.3067636 ,  1.877262  ],\n",
              "       [ 1.7885995 , -1.568478  ],\n",
              "       [-0.1529337 ,  0.22693501],\n",
              "       [-0.01042981,  1.1538078 ],\n",
              "       [ 0.0284067 , -0.6604427 ],\n",
              "       [-0.02453009,  0.42048395],\n",
              "       [-0.80596256,  0.36039984],\n",
              "       [-0.12683931,  0.32788146],\n",
              "       [-0.12087645, -0.16399306],\n",
              "       [-2.5386822 , -0.44809863],\n",
              "       [-0.49130484, -0.74196494],\n",
              "       [-0.4690692 ,  1.049781  ],\n",
              "       [-0.86231214, -0.66553694],\n",
              "       [ 0.29194584,  1.0656276 ],\n",
              "       [-1.185251  ,  0.07844309],\n",
              "       [-2.3431773 , -0.6589863 ]], dtype=float32)>"
            ]
          },
          "metadata": {},
          "execution_count": 10
        }
      ]
    },
    {
      "cell_type": "code",
      "source": [
        "tf.one_hot([1], depth=27) @ C"
      ],
      "metadata": {
        "colab": {
          "base_uri": "https://localhost:8080/"
        },
        "id": "64dc7eayQkY4",
        "outputId": "77daaa55-23e5-40a3-94c4-b9741dd65728"
      },
      "execution_count": 11,
      "outputs": [
        {
          "output_type": "execute_result",
          "data": {
            "text/plain": [
              "<tf.Tensor: shape=(1, 2), dtype=float32, numpy=array([[ 2.0701635, -0.7613406]], dtype=float32)>"
            ]
          },
          "metadata": {},
          "execution_count": 11
        }
      ]
    },
    {
      "cell_type": "code",
      "source": [
        "C[1, tf.newaxis]"
      ],
      "metadata": {
        "colab": {
          "base_uri": "https://localhost:8080/"
        },
        "id": "QSrOz2CNRNmb",
        "outputId": "04baa9ed-1c05-48f0-a3d9-575f19985192"
      },
      "execution_count": 12,
      "outputs": [
        {
          "output_type": "execute_result",
          "data": {
            "text/plain": [
              "<tf.Tensor: shape=(1, 2), dtype=float32, numpy=array([[ 2.0701635, -0.7613406]], dtype=float32)>"
            ]
          },
          "metadata": {},
          "execution_count": 12
        }
      ]
    },
    {
      "cell_type": "code",
      "source": [
        "X.shape, X[:5]"
      ],
      "metadata": {
        "colab": {
          "base_uri": "https://localhost:8080/"
        },
        "id": "e9CGnChQVdZP",
        "outputId": "5b50215f-52e4-403a-c6dc-6a150ed631e1"
      },
      "execution_count": 13,
      "outputs": [
        {
          "output_type": "execute_result",
          "data": {
            "text/plain": [
              "(TensorShape([32, 3]),\n",
              " <tf.Tensor: shape=(5, 3), dtype=int32, numpy=\n",
              " array([[ 0,  0,  0],\n",
              "        [ 0,  0,  5],\n",
              "        [ 0,  5, 13],\n",
              "        [ 5, 13, 13],\n",
              "        [13, 13,  1]], dtype=int32)>)"
            ]
          },
          "metadata": {},
          "execution_count": 13
        }
      ]
    },
    {
      "cell_type": "code",
      "source": [
        "tf.gather(C, X[:3])"
      ],
      "metadata": {
        "colab": {
          "base_uri": "https://localhost:8080/"
        },
        "id": "qxlqznn6Tay3",
        "outputId": "1795b63b-3e1f-4ce9-8b48-6fd7270f1476"
      },
      "execution_count": 14,
      "outputs": [
        {
          "output_type": "execute_result",
          "data": {
            "text/plain": [
              "<tf.Tensor: shape=(3, 3, 2), dtype=float32, numpy=\n",
              "array([[[-0.9521539 , -0.67417485],\n",
              "        [-0.9521539 , -0.67417485],\n",
              "        [-0.9521539 , -0.67417485]],\n",
              "\n",
              "       [[-0.9521539 , -0.67417485],\n",
              "        [-0.9521539 , -0.67417485],\n",
              "        [-1.0729713 , -0.34305072]],\n",
              "\n",
              "       [[-0.9521539 , -0.67417485],\n",
              "        [-1.0729713 , -0.34305072],\n",
              "        [-0.1529337 ,  0.22693501]]], dtype=float32)>"
            ]
          },
          "metadata": {},
          "execution_count": 14
        }
      ]
    },
    {
      "cell_type": "code",
      "source": [
        "import timeit\n",
        "duration1 = timeit.timeit(lambda: tf.one_hot([1], depth=27) @ C, number=10000)\n",
        "duration2 = timeit.timeit(lambda:  tf.gather(C, X), number=10000)\n",
        "print(f'{duration1=}s, {duration2=}s')"
      ],
      "metadata": {
        "colab": {
          "base_uri": "https://localhost:8080/"
        },
        "id": "BeEgGnlUR0zu",
        "outputId": "f6540306-752e-45d2-9a57-4236cf4a6ae3"
      },
      "execution_count": 15,
      "outputs": [
        {
          "output_type": "stream",
          "name": "stdout",
          "text": [
            "duration1=6.043831506000004s, duration2=1.4686610410000043s\n"
          ]
        }
      ]
    },
    {
      "cell_type": "code",
      "source": [
        "emb = tf.gather(C, X)\n",
        "emb.shape"
      ],
      "metadata": {
        "colab": {
          "base_uri": "https://localhost:8080/"
        },
        "id": "r4np4owMXO4d",
        "outputId": "9ff639f2-1bb1-40e2-811d-835c93ba6383"
      },
      "execution_count": 16,
      "outputs": [
        {
          "output_type": "execute_result",
          "data": {
            "text/plain": [
              "TensorShape([32, 3, 2])"
            ]
          },
          "metadata": {},
          "execution_count": 16
        }
      ]
    },
    {
      "cell_type": "code",
      "source": [
        "emb[:2]"
      ],
      "metadata": {
        "colab": {
          "base_uri": "https://localhost:8080/"
        },
        "id": "ffEt4JnsY9yJ",
        "outputId": "3e6eae72-be77-480f-c5a6-68b09a7f3866"
      },
      "execution_count": 17,
      "outputs": [
        {
          "output_type": "execute_result",
          "data": {
            "text/plain": [
              "<tf.Tensor: shape=(2, 3, 2), dtype=float32, numpy=\n",
              "array([[[-0.9521539 , -0.67417485],\n",
              "        [-0.9521539 , -0.67417485],\n",
              "        [-0.9521539 , -0.67417485]],\n",
              "\n",
              "       [[-0.9521539 , -0.67417485],\n",
              "        [-0.9521539 , -0.67417485],\n",
              "        [-1.0729713 , -0.34305072]]], dtype=float32)>"
            ]
          },
          "metadata": {},
          "execution_count": 17
        }
      ]
    },
    {
      "cell_type": "code",
      "source": [
        "emb = tf.reshape(emb, (emb.shape[0], -1))"
      ],
      "metadata": {
        "id": "g5Ynai1lYaqY"
      },
      "execution_count": 18,
      "outputs": []
    },
    {
      "cell_type": "code",
      "source": [
        "emb[:2]"
      ],
      "metadata": {
        "colab": {
          "base_uri": "https://localhost:8080/"
        },
        "id": "faki8kdRY225",
        "outputId": "72df2524-83b5-4a73-d410-0bf66cc76d7f"
      },
      "execution_count": 19,
      "outputs": [
        {
          "output_type": "execute_result",
          "data": {
            "text/plain": [
              "<tf.Tensor: shape=(2, 6), dtype=float32, numpy=\n",
              "array([[-0.9521539 , -0.67417485, -0.9521539 , -0.67417485, -0.9521539 ,\n",
              "        -0.67417485],\n",
              "       [-0.9521539 , -0.67417485, -0.9521539 , -0.67417485, -1.0729713 ,\n",
              "        -0.34305072]], dtype=float32)>"
            ]
          },
          "metadata": {},
          "execution_count": 19
        }
      ]
    },
    {
      "cell_type": "code",
      "source": [
        "W1 = tf.Variable(tf.random.normal((embed_size*block_size, 100)))\n",
        "b1 = tf.Variable(tf.zeros((1, 100)))\n",
        "W1.shape, b1.shape, W1.dtype, b1.dtype"
      ],
      "metadata": {
        "colab": {
          "base_uri": "https://localhost:8080/"
        },
        "id": "5qM0U0GFZQha",
        "outputId": "72bd4212-de5f-465c-fdbf-6ba6eab7d45e"
      },
      "execution_count": 20,
      "outputs": [
        {
          "output_type": "execute_result",
          "data": {
            "text/plain": [
              "(TensorShape([6, 100]), TensorShape([1, 100]), tf.float32, tf.float32)"
            ]
          },
          "metadata": {},
          "execution_count": 20
        }
      ]
    },
    {
      "cell_type": "code",
      "source": [
        "h = tf.math.tanh(emb @ W1 + b1)"
      ],
      "metadata": {
        "id": "jAUfJNWRaB4h"
      },
      "execution_count": 21,
      "outputs": []
    },
    {
      "cell_type": "code",
      "source": [
        "h"
      ],
      "metadata": {
        "colab": {
          "base_uri": "https://localhost:8080/"
        },
        "id": "C-BwVCmUaYRz",
        "outputId": "5d22f7ed-f506-4b9e-b204-6548056b5eb3"
      },
      "execution_count": 22,
      "outputs": [
        {
          "output_type": "execute_result",
          "data": {
            "text/plain": [
              "<tf.Tensor: shape=(32, 100), dtype=float32, numpy=\n",
              "array([[-0.39269683,  0.9969044 , -0.9995136 , ..., -0.94327366,\n",
              "        -0.99936616, -0.336682  ],\n",
              "       [-0.10376655,  0.99695355, -0.99958295, ..., -0.9332468 ,\n",
              "        -0.9994318 , -0.43255544],\n",
              "       [-0.45500985,  0.9983383 , -0.98620236, ..., -0.36056975,\n",
              "        -0.9680389 ,  0.60148144],\n",
              "       ...,\n",
              "       [ 0.8550604 ,  0.60261726, -0.2714849 , ...,  0.7298691 ,\n",
              "         0.34298596,  0.40772575],\n",
              "       [ 0.62449425, -0.15028638,  0.940124  , ...,  0.6570931 ,\n",
              "         0.95719093,  0.9355019 ],\n",
              "       [-0.9663875 , -0.94008756,  0.99998575, ...,  0.8583946 ,\n",
              "         0.99981904,  0.9866783 ]], dtype=float32)>"
            ]
          },
          "metadata": {},
          "execution_count": 22
        }
      ]
    },
    {
      "cell_type": "code",
      "source": [
        "W2 = tf.Variable(tf.random.normal((100, 27)))\n",
        "b2 = tf.Variable(tf.zeros((1, 27)))\n",
        "W2.shape, b2.shape, W2.dtype, b2.dtype"
      ],
      "metadata": {
        "colab": {
          "base_uri": "https://localhost:8080/"
        },
        "id": "AafAowGUas4R",
        "outputId": "a7d0cc57-6833-49d5-8712-e5de0d1b9248"
      },
      "execution_count": 23,
      "outputs": [
        {
          "output_type": "execute_result",
          "data": {
            "text/plain": [
              "(TensorShape([100, 27]), TensorShape([1, 27]), tf.float32, tf.float32)"
            ]
          },
          "metadata": {},
          "execution_count": 23
        }
      ]
    },
    {
      "cell_type": "code",
      "source": [
        "logits = h @ W2 + b2"
      ],
      "metadata": {
        "id": "Jj9U2SRxbNGc"
      },
      "execution_count": 24,
      "outputs": []
    },
    {
      "cell_type": "code",
      "source": [
        "logits.shape"
      ],
      "metadata": {
        "colab": {
          "base_uri": "https://localhost:8080/"
        },
        "id": "YheumuXrbVUz",
        "outputId": "5dac9c60-6fb5-4ad5-ca5c-12fd68407a33"
      },
      "execution_count": 25,
      "outputs": [
        {
          "output_type": "execute_result",
          "data": {
            "text/plain": [
              "TensorShape([32, 27])"
            ]
          },
          "metadata": {},
          "execution_count": 25
        }
      ]
    },
    {
      "cell_type": "code",
      "source": [
        "counts = tf.math.exp(logits)\n",
        "probs = counts / tf.reduce_sum(counts, axis=1, keepdims=True)\n",
        "probs.shape"
      ],
      "metadata": {
        "colab": {
          "base_uri": "https://localhost:8080/"
        },
        "id": "lFvnDca_eMlM",
        "outputId": "72aa888c-fe66-49eb-a2f5-dc21724d69cc"
      },
      "execution_count": 26,
      "outputs": [
        {
          "output_type": "execute_result",
          "data": {
            "text/plain": [
              "TensorShape([32, 27])"
            ]
          },
          "metadata": {},
          "execution_count": 26
        }
      ]
    },
    {
      "cell_type": "code",
      "source": [
        "plt.imshow(probs)"
      ],
      "metadata": {
        "colab": {
          "base_uri": "https://localhost:8080/",
          "height": 447
        },
        "id": "MoMTeUyMbXbG",
        "outputId": "f3e1a53b-26e2-487e-f9f6-62627886c25e"
      },
      "execution_count": 27,
      "outputs": [
        {
          "output_type": "execute_result",
          "data": {
            "text/plain": [
              "<matplotlib.image.AxesImage at 0x7f28fc4183a0>"
            ]
          },
          "metadata": {},
          "execution_count": 27
        },
        {
          "output_type": "display_data",
          "data": {
            "text/plain": [
              "<Figure size 640x480 with 1 Axes>"
            ],
            "image/png": "[encoded data removed]"
          },
          "metadata": {}
        }
      ]
    },
    {
      "cell_type": "code",
      "source": [
        "Y"
      ],
      "metadata": {
        "colab": {
          "base_uri": "https://localhost:8080/"
        },
        "id": "1l0ZMUaVfJ_t",
        "outputId": "bafc0aba-91e2-4a13-9559-9e30b13546de"
      },
      "execution_count": 28,
      "outputs": [
        {
          "output_type": "execute_result",
          "data": {
            "text/plain": [
              "<tf.Tensor: shape=(32,), dtype=int32, numpy=\n",
              "array([ 5, 13, 13,  1,  0, 15, 12,  9, 22,  9,  1,  0,  1, 22,  1,  0,  9,\n",
              "       19,  1,  2,  5, 12, 12,  1,  0, 19, 15, 16,  8,  9,  1,  0],\n",
              "      dtype=int32)>"
            ]
          },
          "metadata": {},
          "execution_count": 28
        }
      ]
    },
    {
      "cell_type": "code",
      "source": [
        "loss = -tf.reduce_mean(tf.math.log(tf.gather(probs, indices=Y, batch_dims=1)))"
      ],
      "metadata": {
        "id": "OA7pzruQe6tv"
      },
      "execution_count": 29,
      "outputs": []
    },
    {
      "cell_type": "code",
      "source": [
        "loss.numpy()"
      ],
      "metadata": {
        "colab": {
          "base_uri": "https://localhost:8080/"
        },
        "id": "5TtypLkhgME0",
        "outputId": "c78da6e2-f143-4535-a1d6-d16897c1be51"
      },
      "execution_count": 30,
      "outputs": [
        {
          "output_type": "execute_result",
          "data": {
            "text/plain": [
              "14.972661"
            ]
          },
          "metadata": {},
          "execution_count": 30
        }
      ]
    },
    {
      "cell_type": "code",
      "source": [
        "# --------------------- SUMMARY ---------------------"
      ],
      "metadata": {
        "id": "syzbUBufgZCO"
      },
      "execution_count": 31,
      "outputs": []
    },
    {
      "cell_type": "code",
      "source": [
        "# hyper-params\n",
        "block_size = 3\n",
        "embed_size = 2\n",
        "batch_size = 128\n",
        "random_seed = 2147483647"
      ],
      "metadata": {
        "id": "W30OXa1GhKHj"
      },
      "execution_count": 217,
      "outputs": []
    },
    {
      "cell_type": "code",
      "source": [
        "# dataset\n",
        "X, Y = [], []\n",
        "\n",
        "for w in words:\n",
        "  #print(w)\n",
        "  context = [0] * block_size\n",
        "  for ch in w + '.':\n",
        "    ix = stoi[ch]\n",
        "    X.append(context)\n",
        "    Y.append(ix)\n",
        "    #print(''.join(itos[i] for i in context), '--->', ch)\n",
        "    context = context[1:] + [ix]\n",
        "\n",
        "X = tf.constant(X)\n",
        "Y = tf.constant(Y)\n",
        "X.shape, Y.shape"
      ],
      "metadata": {
        "colab": {
          "base_uri": "https://localhost:8080/"
        },
        "id": "VNbh9yKfgh9X",
        "outputId": "1eb54e71-faa3-427a-8059-8982f606e55e"
      },
      "execution_count": 157,
      "outputs": [
        {
          "output_type": "execute_result",
          "data": {
            "text/plain": [
              "(TensorShape([228146, 3]), TensorShape([228146]))"
            ]
          },
          "metadata": {},
          "execution_count": 157
        }
      ]
    },
    {
      "cell_type": "code",
      "source": [
        "g = tf.random.Generator.from_seed(random_seed)\n",
        "C = tf.Variable(g.normal((27, embed_size)))\n",
        "W1 = tf.Variable(g.normal((embed_size*block_size, 200)))\n",
        "b1 = tf.Variable(g.normal((1, 200)))\n",
        "W2 = tf.Variable(g.normal((200, 27)))\n",
        "b2 = tf.Variable(g.normal((1, 27)))\n",
        "parameters = [C, W1, b1, W2, b2]\n",
        "\n",
        "prv_losses = []\n",
        "cce = tf.keras.losses.CategoricalCrossentropy(from_logits=True)"
      ],
      "metadata": {
        "id": "UBhALDxHgrnN"
      },
      "execution_count": 214,
      "outputs": []
    },
    {
      "cell_type": "code",
      "source": [
        "sum(tf.size(param).numpy() for param in parameters)"
      ],
      "metadata": {
        "colab": {
          "base_uri": "https://localhost:8080/"
        },
        "id": "Wwq_U09Kij9B",
        "outputId": "dfe7c977-1331-475d-ab21-d2ee3e1c947f"
      },
      "execution_count": 210,
      "outputs": [
        {
          "output_type": "execute_result",
          "data": {
            "text/plain": [
              "6881"
            ]
          },
          "metadata": {},
          "execution_count": 210
        }
      ]
    },
    {
      "cell_type": "code",
      "source": [
        "learning_rate = 1e-1\n",
        "for _ in range(100):\n",
        "  # mini-batch\n",
        "  ix = tf.random.uniform(shape=(batch_size, ), minval=0, maxval=X.shape[0], dtype=tf.int32)\n",
        "\n",
        "  # forward pass\n",
        "  with tf.GradientTape() as tape:\n",
        "    emb = tf.gather(C, tf.gather(X, ix))\n",
        "    h = tf.math.tanh( tf.reshape(emb,(batch_size, -1)) @ W1 + b1)\n",
        "    logits = h @ W2 + b2\n",
        "    loss = cce(tf.one_hot(tf.gather(Y, ix), depth=27), logits)\n",
        "\n",
        "  # backward pass\n",
        "  gradients = tape.gradient(loss, parameters)\n",
        "\n",
        "  # update\n",
        "  for param, grad in zip(parameters, gradients):\n",
        "    if type(grad) == tf.IndexedSlices:\n",
        "      delta = tf.IndexedSlices(\n",
        "          values = learning_rate * grad.values,\n",
        "          indices = grad.indices,\n",
        "          dense_shape = grad.dense_shape\n",
        "      )\n",
        "      param.assign_sub(delta)\n",
        "    else:\n",
        "      param.assign_sub(learning_rate * grad)\n",
        "\n",
        "print(f'loss={loss.numpy()}')"
      ],
      "metadata": {
        "colab": {
          "base_uri": "https://localhost:8080/"
        },
        "id": "iaEIKBBIi74i",
        "outputId": "4d013db6-6732-41a4-e3cd-afba4a02eb4f"
      },
      "execution_count": 223,
      "outputs": [
        {
          "output_type": "stream",
          "name": "stdout",
          "text": [
            "loss=2.898756742477417\n"
          ]
        }
      ]
    },
    {
      "cell_type": "code",
      "source": [
        "parameters = [ W1, b1, W2, b2]"
      ],
      "metadata": {
        "id": "OHAJx4rkJGer"
      },
      "execution_count": 204,
      "outputs": []
    },
    {
      "cell_type": "code",
      "source": [
        "emb = tf.gather(C, X)\n",
        "h = tf.math.tanh( tf.reshape(emb,(X.shape[0], -1)) @ W1 + b1)\n",
        "logits = h @ W2 + b2\n",
        "loss = cce(tf.one_hot(Y, depth=27), logits)\n",
        "prv_losses.append(loss.numpy())\n",
        "prv_losses"
      ],
      "metadata": {
        "colab": {
          "base_uri": "https://localhost:8080/"
        },
        "id": "zQGbOqR05qmt",
        "outputId": "7af2919f-8bf7-4862-d621-7358dd3361cb"
      },
      "execution_count": 206,
      "outputs": [
        {
          "output_type": "execute_result",
          "data": {
            "text/plain": [
              "[4.617669,\n",
              " 3.2537813,\n",
              " 2.955249,\n",
              " 2.8446243,\n",
              " 2.7793238,\n",
              " 2.7368228,\n",
              " 2.7368228,\n",
              " 2.7039692,\n",
              " 2.6587377,\n",
              " 2.6275465,\n",
              " 2.6051874,\n",
              " 2.6017337,\n",
              " 2.5998545,\n",
              " 2.5853703,\n",
              " 2.5076602,\n",
              " 2.5029426]"
            ]
          },
          "metadata": {},
          "execution_count": 206
        }
      ]
    },
    {
      "cell_type": "code",
      "source": [
        "# sampling\n",
        "tf.random.set_seed(random_seed)\n",
        "context = [0] * block_size\n",
        "for _ in range(20):\n",
        "  out = []\n",
        "  while True:\n",
        "    _X = tf.constant([context])\n",
        "    emb = tf.gather(C, _X)\n",
        "    _h = tf.math.tanh( tf.reshape(emb,(_X.shape[0], -1)) @ W1 + b1)\n",
        "    logits = _h @ W2 + b2\n",
        "    ix = tf.random.categorical(logits, 1)[0][0].numpy()\n",
        "    if ix == 0:\n",
        "      break\n",
        "    context = context[1:] + [ix]\n",
        "    out.append(itos[ix])\n",
        "  print(''.join(out))"
      ],
      "metadata": {
        "colab": {
          "base_uri": "https://localhost:8080/"
        },
        "id": "W2hclhI_7Y1v",
        "outputId": "1840031e-e764-4a73-b4c2-f6515234ef7b"
      },
      "execution_count": 222,
      "outputs": [
        {
          "output_type": "stream",
          "name": "stdout",
          "text": [
            "laii\n",
            "atles\n",
            "ntenlelasla\n",
            "ys\n",
            "lyysmhn\n",
            "\n",
            "\n",
            "\n",
            "ihvgeuuianmmazmsnlni\n",
            "\n",
            "kddlynt\n",
            "lyans\n",
            "lrh\n",
            "hlelanelen\n",
            "ityn\n",
            "\n",
            "\n",
            "dlrnn\n",
            "dy\n",
            "lylaxial\n"
          ]
        }
      ]
    },
    {
      "cell_type": "code",
      "source": [
        "C.numpy()"
      ],
      "metadata": {
        "colab": {
          "base_uri": "https://localhost:8080/"
        },
        "id": "kuN7FbQeAJ_K",
        "outputId": "41bece13-24f9-4527-a8c6-80b19c3c5a89"
      },
      "execution_count": 213,
      "outputs": [
        {
          "output_type": "execute_result",
          "data": {
            "text/plain": [
              "array([[-0.17742193, -0.8334641 ],\n",
              "       [-0.21112305, -0.6456846 ],\n",
              "       [-0.3372168 , -0.7354935 ],\n",
              "       [ 0.38229445,  0.76445264],\n",
              "       [-0.41706407, -0.7393082 ],\n",
              "       [-0.23021896, -0.5771396 ],\n",
              "       [-0.41366857, -0.78146   ],\n",
              "       [ 0.38356456,  0.7619454 ],\n",
              "       [-0.3990941 , -0.7440618 ],\n",
              "       [-0.27105984, -0.65334773],\n",
              "       [ 0.3420428 ,  0.81316125],\n",
              "       [-0.39260724, -0.8065912 ],\n",
              "       [ 0.24468563,  0.85471123],\n",
              "       [ 0.3181436 ,  0.7795867 ],\n",
              "       [-0.33450937, -0.6614098 ],\n",
              "       [-0.1949064 , -0.56230026],\n",
              "       [-0.34693694, -0.76193815],\n",
              "       [-0.29977915, -0.62326515],\n",
              "       [-0.39652452, -0.7136873 ],\n",
              "       [-0.34964195, -0.6907478 ],\n",
              "       [-0.38524216, -0.71401227],\n",
              "       [ 0.3083212 ,  0.63761955],\n",
              "       [-0.50507814, -0.7820386 ],\n",
              "       [-0.37450686, -0.60648936],\n",
              "       [-0.09963389, -0.01853851],\n",
              "       [-0.28898805, -0.6078076 ],\n",
              "       [-0.4185802 , -0.78869784]], dtype=float32)"
            ]
          },
          "metadata": {},
          "execution_count": 213
        }
      ]
    },
    {
      "cell_type": "code",
      "source": [
        "import matplotlib.pyplot as plt\n",
        "x = C.numpy()[:,0]\n",
        "y = C.numpy()[:,1]\n",
        "n = chars\n",
        "\n",
        "fig, ax = plt.subplots()\n",
        "ax.scatter(x, y)\n",
        "ax.grid()\n",
        "\n",
        "for i, txt in enumerate(n):\n",
        "    ax.annotate(txt, (x[i], y[i]))"
      ],
      "metadata": {
        "colab": {
          "base_uri": "https://localhost:8080/",
          "height": 430
        },
        "id": "LwDYUOSG_97r",
        "outputId": "f66d9e4d-ef15-44d6-ec85-351ace4a8c02"
      },
      "execution_count": 224,
      "outputs": [
        {
          "output_type": "display_data",
          "data": {
            "text/plain": [
              "<Figure size 640x480 with 1 Axes>"
            ],
            "image/png": "[encoded data removed]"
          },
          "metadata": {}
        }
      ]
    }
  ]
}